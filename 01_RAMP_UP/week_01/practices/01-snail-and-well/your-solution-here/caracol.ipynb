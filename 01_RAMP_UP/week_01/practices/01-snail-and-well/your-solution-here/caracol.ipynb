{
 "cells": [
  {
   "cell_type": "markdown",
   "metadata": {},
   "source": [
    "# 01 - Caracol y el pozo\n",
    "\n",
    "Un caracol cae en el fondo de un pozo de 125 cm. Cada día el caracol sube 30 cm. pero por la noche, mientras duerme, resbala 20 cm debido a que las paredes son húmedas. ¿Cuantos días tarda en escapar del pozo?\n",
    "\n",
    "TIP: https://www.vix.com/es/btg/curiosidades/59215/acertijos-matematicos-el-caracol-en-el-pozo-facil\n",
    "\n",
    "TIP: http://puzzles.nigelcoldwell.co.uk/sixtytwo.htm"
   ]
  },
  {
   "cell_type": "markdown",
   "metadata": {},
   "source": [
    "## Solución"
   ]
  },
  {
   "cell_type": "code",
   "execution_count": 1,
   "metadata": {},
   "outputs": [
    {
     "name": "stdout",
     "output_type": "stream",
     "text": [
      "Días: 11\n"
     ]
    }
   ],
   "source": [
    "# Asigna los datos del problema a variables con nombres representativos\n",
    "# altura del pozo, avance diario, retroceso nocturno, distancia acumulada\n",
    "# Asigna 0 a la variable que representa la solución\n",
    "# Escribe el código que soluciona el problema\n",
    "\n",
    "altura_pozo = 125\n",
    "avance_dia = 30\n",
    "retroceso_noche = 20\n",
    "\n",
    "posicion = 0\n",
    "dias = 0\n",
    "\n",
    "while 1:\n",
    "    dias +=1\n",
    "    posicion += avance_dia\n",
    "    if posicion >= altura_pozo:\n",
    "        break\n",
    "\n",
    "    posicion -= retroceso_noche\n",
    "\n",
    "# Imprime el resultado con print('Dias =', dias)\n",
    "print(f'Días: {dias}')\n"
   ]
  },
  {
   "cell_type": "markdown",
   "metadata": {},
   "source": [
    "## Objetivos\n",
    "\n",
    "1. Tratamiento de variables\n",
    "2. Uso de bucle **while**\n",
    "3. Uso de condicionales **if-else**\n",
    "4. Imprimir por consola"
   ]
  },
  {
   "cell_type": "markdown",
   "metadata": {},
   "source": [
    "## Bonus\n",
    "La distancia recorrida por el caracol viene ahora definida por una lista. \n",
    "```\n",
    "avance_cm = [30, 21, 33, 77, 44, 45, 23, 45, 12, 34, 55]\n",
    "```\n",
    "¿Cuánto tarda en subir el pozo?\n",
    "¿Cuál es su máximo de desplazamiento en un día? ¿Y su mínimo?\n",
    "¿Cuál es su media de velocidad durante el día?\n",
    "¿Cuál es la desviación típica de su desplazamiento durante el día?"
   ]
  },
  {
   "cell_type": "code",
   "execution_count": 1,
   "metadata": {},
   "outputs": [
    {
     "name": "stdout",
     "output_type": "stream",
     "text": [
      "Días: 5\n",
      "Máximo desplazamiento diario: 77\n",
      "Mínimo desplazamiento diario: 12\n",
      "media de avance es 38.09090909090909\n",
      "la desviación típica es 17.159437082600803\n"
     ]
    }
   ],
   "source": [
    "# Asigna los datos del problema a variables con nombres representativos\n",
    "# altura del pozo, avance diario, retroceso nocturno, distancia acumulada\n",
    "# Asigna 0 a la variable que representa la solución\n",
    "# Escribe el código que soluciona el problema\n",
    "\n",
    "altura_pozo = 125\n",
    "avance_dia = [30,21,33,77,44,45,23,45,12,34,55]\n",
    "retroceso_noche = 20\n",
    "\n",
    "posicion = 0\n",
    "dias = 0\n",
    "\n",
    "while 1:\n",
    "    posicion += avance_dia[dias]\n",
    "    dias += 1\n",
    "    if posicion >= altura_pozo:\n",
    "        break\n",
    "\n",
    "    posicion -= retroceso_noche\n",
    "\n",
    "# Imprime el resultado con print('Dias =', dias)\n",
    "print(f'Días: {dias}')\n",
    "\n",
    "# ¿Cuál es su máximo de desplazamiento en un día? ¿Y su mínimo?\n",
    "max_desplazamiento = 0\n",
    "min_desplazamiento = 999999999999\n",
    "\n",
    "for av_dia in avance_dia:\n",
    "    if av_dia > max_desplazamiento:\n",
    "        max_desplazamiento = av_dia\n",
    "\n",
    "    if av_dia < min_desplazamiento:\n",
    "        min_desplazamiento = av_dia\n",
    "\n",
    "print(f'Máximo desplazamiento diario: {max_desplazamiento}')\n",
    "print(f'Mínimo desplazamiento diario: {min_desplazamiento}')\n",
    "\n",
    "# ¿Cuál es su media de avance?\n",
    "total = 0\n",
    "\n",
    "for av_dia in avance_dia:\n",
    "    total += av_dia\n",
    "\n",
    "media = total/len(avance_dia)\n",
    "\n",
    "print(f'media de avance es {media}')\n",
    "\n",
    "# ¿Cuál es la desviación típica de su desplazamiento durante el día?\n",
    "x = 0\n",
    "for av_dia in avance_dia:\n",
    "    x += (av_dia - media)**2\n",
    "\n",
    "varianza = x / len(avance_dia)\n",
    "\n",
    "import math\n",
    "\n",
    "desv_tipica = math.sqrt(varianza)\n",
    "\n",
    "print(f'la desviación típica es {desv_tipica}')\n"
   ]
  },
  {
   "cell_type": "code",
   "execution_count": null,
   "metadata": {},
   "outputs": [],
   "source": []
  }
 ],
 "metadata": {
  "kernelspec": {
   "display_name": "Python 3",
   "language": "python",
   "name": "python3"
  },
  "language_info": {
   "codemirror_mode": {
    "name": "ipython",
    "version": 3
   },
   "file_extension": ".py",
   "mimetype": "text/x-python",
   "name": "python",
   "nbconvert_exporter": "python",
   "pygments_lexer": "ipython3",
   "version": "3.9.16"
  }
 },
 "nbformat": 4,
 "nbformat_minor": 4
}
