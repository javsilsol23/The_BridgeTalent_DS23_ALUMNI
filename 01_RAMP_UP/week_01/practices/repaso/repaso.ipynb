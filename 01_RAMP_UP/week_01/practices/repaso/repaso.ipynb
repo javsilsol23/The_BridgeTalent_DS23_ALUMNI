{
 "cells": [
  {
   "attachments": {},
   "cell_type": "markdown",
   "metadata": {},
   "source": [
    "1. Dada una lista de números, utiliza un bucle for para imprimir solo los números pares."
   ]
  },
  {
   "cell_type": "code",
   "execution_count": 1,
   "metadata": {},
   "outputs": [
    {
     "name": "stdout",
     "output_type": "stream",
     "text": [
      "2\n",
      "4\n",
      "6\n",
      "8\n",
      "10\n"
     ]
    }
   ],
   "source": [
    "numbers = [1, 2, 3, 4, 5, 6, 7, 8, 9, 10]\n",
    "\n",
    "for n in numbers:\n",
    "    if n%2 == 0:\n",
    "        print(n)"
   ]
  },
  {
   "attachments": {},
   "cell_type": "markdown",
   "metadata": {},
   "source": [
    "2. Dada una lista de números, utiliza un bucle while para imprimir solo los números impares."
   ]
  },
  {
   "cell_type": "code",
   "execution_count": 2,
   "metadata": {},
   "outputs": [
    {
     "name": "stdout",
     "output_type": "stream",
     "text": [
      "1\n",
      "3\n",
      "5\n",
      "7\n",
      "9\n"
     ]
    }
   ],
   "source": [
    "numbers = [1, 2, 3, 4, 5, 6, 7, 8, 9, 10]\n",
    "\n",
    "for n in numbers:\n",
    "    if n % 2 == 1:\n",
    "        print(n)\n"
   ]
  },
  {
   "attachments": {},
   "cell_type": "markdown",
   "metadata": {},
   "source": [
    "3. Dado un diccionario de frutas y sus precios, utiliza un bucle for para imprimir solo las frutas con precios mayores a 2"
   ]
  },
  {
   "cell_type": "code",
   "execution_count": 43,
   "metadata": {},
   "outputs": [
    {
     "name": "stdout",
     "output_type": "stream",
     "text": [
      "platano\n",
      "kiwi\n"
     ]
    }
   ],
   "source": [
    "fruits = {\"manzana\": 1.5, \"naranja\": 2.0, \"platano\": 3.0,\"kiwi\": 2.5}\n",
    "\n",
    "for k,v in fruits.items():\n",
    "    if v > 2:\n",
    "        print(k)"
   ]
  },
  {
   "attachments": {},
   "cell_type": "markdown",
   "metadata": {},
   "source": [
    "4. Dada una lista de nombres, utiliza un bucle while para imprimir el primer nombre que comience con \"J\"."
   ]
  },
  {
   "cell_type": "code",
   "execution_count": 44,
   "metadata": {},
   "outputs": [
    {
     "name": "stdout",
     "output_type": "stream",
     "text": [
      "Juan\n"
     ]
    }
   ],
   "source": [
    "names = [\"Ana\", \"Pedro\", \"Juan\", \"Maria\", \"Julia\"]\n",
    "\n",
    "for n in names:\n",
    "    if n[0] == 'J':\n",
    "        print(n)\n",
    "        break"
   ]
  },
  {
   "attachments": {},
   "cell_type": "markdown",
   "metadata": {},
   "source": [
    "5. Dada una lista de números, utiliza un bucle for para calcular la totala de los números impares."
   ]
  },
  {
   "cell_type": "code",
   "execution_count": 45,
   "metadata": {},
   "outputs": [
    {
     "name": "stdout",
     "output_type": "stream",
     "text": [
      "25\n"
     ]
    }
   ],
   "source": [
    "numbers = [1, 2, 3, 4, 5, 6, 7, 8, 9, 10]\n",
    "\n",
    "total = 0\n",
    "\n",
    "for n in numbers:\n",
    "    if n%2 == 1:\n",
    "        total += n\n",
    "\n",
    "print(total)"
   ]
  },
  {
   "attachments": {},
   "cell_type": "markdown",
   "metadata": {},
   "source": [
    "6. Dado un diccionario de frutas y sus precios, utiliza un bucle while para calcular el precio total de todas las frutas con precios menores a 2."
   ]
  },
  {
   "cell_type": "code",
   "execution_count": 18,
   "metadata": {},
   "outputs": [
    {
     "name": "stdout",
     "output_type": "stream",
     "text": [
      "1.5\n"
     ]
    }
   ],
   "source": [
    "fruits = {\"manzana\": 1.5, \"naranja\": 2.0, \"platano\": 3.0, \"kiwi\": 2.5}\n",
    "\n",
    "total = 0\n",
    "\n",
    "for v in fruits.values():\n",
    "    if v < 2:\n",
    "        total += v\n",
    "\n",
    "print(total)\n"
   ]
  },
  {
   "attachments": {},
   "cell_type": "markdown",
   "metadata": {},
   "source": [
    "7. Dada una lista de nombres, utiliza un bucle for para imprimir solo los nombres que tengan más de 4 letras."
   ]
  },
  {
   "cell_type": "code",
   "execution_count": 25,
   "metadata": {},
   "outputs": [
    {
     "name": "stdout",
     "output_type": "stream",
     "text": [
      "Pedro\n",
      "Maria\n",
      "Julia\n"
     ]
    }
   ],
   "source": [
    "names = [\"Ana\", \"Pedro\", \"Juan\", \"Maria\", \"Julia\"]\n",
    "\n",
    "for n in names:\n",
    "    if len(n) > 4:\n",
    "        print(n)"
   ]
  },
  {
   "attachments": {},
   "cell_type": "markdown",
   "metadata": {},
   "source": [
    "8. Dada una lista de números, utiliza un bucle while para imprimir el primer número que sea mayor a 5."
   ]
  },
  {
   "cell_type": "code",
   "execution_count": 26,
   "metadata": {},
   "outputs": [
    {
     "name": "stdout",
     "output_type": "stream",
     "text": [
      "6\n"
     ]
    }
   ],
   "source": [
    "numbers = [1, 2, 3, 4, 5, 6, 7, 8, 9, 10]\n",
    "\n",
    "for n in numbers:\n",
    "    if n > 5:\n",
    "        print(n)\n",
    "        break"
   ]
  },
  {
   "attachments": {},
   "cell_type": "markdown",
   "metadata": {},
   "source": [
    "9. Dado un diccionario de frutas y sus precios, utiliza un bucle for para imprimir la fruta más cara."
   ]
  },
  {
   "cell_type": "code",
   "execution_count": 28,
   "metadata": {},
   "outputs": [
    {
     "data": {
      "text/plain": [
       "'platano'"
      ]
     },
     "execution_count": 28,
     "metadata": {},
     "output_type": "execute_result"
    }
   ],
   "source": [
    "fruits = {\"manzana\": 1.5, \"naranja\": 2.0, \"platano\": 3.0, \"kiwi\": 2.5}\n",
    "\n",
    "max_k = ''\n",
    "max_v = 0\n",
    "\n",
    "for k,v in fruits.items():\n",
    "    if v > max_v:\n",
    "        max_v = v\n",
    "        max_k = k\n",
    "    \n",
    "max_k"
   ]
  },
  {
   "attachments": {},
   "cell_type": "markdown",
   "metadata": {},
   "source": [
    "10. Dada una lista de números, utiliza un bucle while para imprimir solo los números que sean divisibles por 3"
   ]
  },
  {
   "cell_type": "code",
   "execution_count": 7,
   "metadata": {},
   "outputs": [
    {
     "name": "stdout",
     "output_type": "stream",
     "text": [
      "3\n",
      "6\n",
      "9\n"
     ]
    }
   ],
   "source": [
    "numbers = [1, 2, 3, 4, 5, 6, 7, 8, 9, 10]\n",
    "\n",
    "for n in numbers:\n",
    "    if n%3 == 0:\n",
    "        print(n)"
   ]
  },
  {
   "attachments": {},
   "cell_type": "markdown",
   "metadata": {},
   "source": [
    "11. Dado un diccionario de frutas y sus precios, utiliza un bucle for para imprimir solo las frutas que tengan una longitud de nombre mayor a 5."
   ]
  },
  {
   "cell_type": "code",
   "execution_count": 20,
   "metadata": {},
   "outputs": [
    {
     "name": "stdout",
     "output_type": "stream",
     "text": [
      "manzana\n",
      "naranja\n",
      "platano\n"
     ]
    }
   ],
   "source": [
    "fruits = {\"manzana\": 1.5, \"naranja\": 2.0, \"platano\": 3.0, \"kiwi\": 2.5}\n",
    "\n",
    "for k in fruits.keys():\n",
    "    if len(k) > 5:\n",
    "        print(k)"
   ]
  },
  {
   "attachments": {},
   "cell_type": "markdown",
   "metadata": {},
   "source": [
    "12. Dada una lista de números, utiliza un bucle for para imprimir solo los números que sean múltiplos de 4 o 5."
   ]
  },
  {
   "cell_type": "code",
   "execution_count": 9,
   "metadata": {},
   "outputs": [
    {
     "name": "stdout",
     "output_type": "stream",
     "text": [
      "4\n",
      "5\n",
      "8\n",
      "10\n"
     ]
    }
   ],
   "source": [
    "numbers = [1, 2, 3, 4, 5, 6, 7, 8, 9, 10]\n",
    "\n",
    "for n in numbers:\n",
    "    if n%4==0 or n%5==0:\n",
    "        print(n)"
   ]
  },
  {
   "attachments": {},
   "cell_type": "markdown",
   "metadata": {},
   "source": [
    "13. Dado un diccionario de frutas y sus precios, utiliza un bucle while para calcular el precio total de todas las frutas."
   ]
  },
  {
   "cell_type": "code",
   "execution_count": 19,
   "metadata": {},
   "outputs": [
    {
     "name": "stdout",
     "output_type": "stream",
     "text": [
      "9.0\n"
     ]
    }
   ],
   "source": [
    "### SOLUCIÓN 1\n",
    "\n",
    "fruits = {\"manzana\": 1.5, \"naranja\": 2.0, \"platano\": 3.0, \"kiwi\": 2.5}\n",
    "\n",
    "total = 0\n",
    "for v in fruits.values():\n",
    "    total += v\n",
    "\n",
    "print(total)"
   ]
  },
  {
   "cell_type": "code",
   "execution_count": 1,
   "metadata": {},
   "outputs": [
    {
     "data": {
      "text/plain": [
       "9.0"
      ]
     },
     "execution_count": 1,
     "metadata": {},
     "output_type": "execute_result"
    }
   ],
   "source": [
    "### SOLUCIÓN 2\n",
    "\n",
    "fruits = {\"manzana\": 1.5, \"naranja\": 2.0, \"platano\": 3.0, \"kiwi\": 2.5}\n",
    "\n",
    "sum([v for v in fruits.values()])\n"
   ]
  },
  {
   "attachments": {},
   "cell_type": "markdown",
   "metadata": {},
   "source": [
    "14. Dada una lista de nombres, utiliza un bucle for para imprimir los nombres en orden inverso."
   ]
  },
  {
   "cell_type": "code",
   "execution_count": 11,
   "metadata": {},
   "outputs": [
    {
     "name": "stdout",
     "output_type": "stream",
     "text": [
      "Julia\n",
      "Maria\n",
      "Juan\n",
      "Pedro\n",
      "Ana\n"
     ]
    }
   ],
   "source": [
    "### SOLUCIÓN 1\n",
    "\n",
    "names = [\"Ana\", \"Pedro\", \"Juan\", \"Maria\", \"Julia\"]\n",
    "\n",
    "names.reverse()\n",
    "\n",
    "for n in names:\n",
    "    print(n)"
   ]
  },
  {
   "cell_type": "code",
   "execution_count": 22,
   "metadata": {},
   "outputs": [
    {
     "name": "stdout",
     "output_type": "stream",
     "text": [
      "Julia\n",
      "Maria\n",
      "Juan\n",
      "Pedro\n",
      "Ana\n"
     ]
    }
   ],
   "source": [
    "### SOLUCIÓN 2\n",
    "\n",
    "names = [\"Ana\", \"Pedro\", \"Juan\", \"Maria\", \"Julia\"]\n",
    "\n",
    "for i in range(len(names)-1, -1, -1):\n",
    "    print(names[i])"
   ]
  },
  {
   "attachments": {},
   "cell_type": "markdown",
   "metadata": {},
   "source": [
    "15. Dada una lista de números, utiliza un bucle while para calcular la media de los números pares."
   ]
  },
  {
   "cell_type": "code",
   "execution_count": 29,
   "metadata": {},
   "outputs": [
    {
     "data": {
      "text/plain": [
       "6.0"
      ]
     },
     "execution_count": 29,
     "metadata": {},
     "output_type": "execute_result"
    }
   ],
   "source": [
    "numbers = [1, 2, 3, 4, 5, 6, 7, 8, 9, 10]\n",
    "\n",
    "total = 0\n",
    "cont = 0\n",
    "\n",
    "for n in numbers:\n",
    "    if n%2 == 0:\n",
    "        total +=n\n",
    "        cont +=1\n",
    "\n",
    "total/cont"
   ]
  },
  {
   "attachments": {},
   "cell_type": "markdown",
   "metadata": {},
   "source": [
    "16. Dada una lista de números, utiliza un bucle for para imprimir el número más pequeño y el número más grande."
   ]
  },
  {
   "cell_type": "code",
   "execution_count": 30,
   "metadata": {},
   "outputs": [
    {
     "name": "stdout",
     "output_type": "stream",
     "text": [
      "mínimo: 1\n",
      "máximo: 10\n"
     ]
    }
   ],
   "source": [
    "### SOLUCIÓN 1\n",
    "\n",
    "numbers = [5, 2, 7, 1, 8, 4, 10, 3]\n",
    "\n",
    "min_n = max_n = numbers[0]\n",
    "\n",
    "for n in numbers[1:]:\n",
    "    if n < min_n:\n",
    "        min_n = n\n",
    "    if n > max_n:\n",
    "        max_n = n\n",
    "\n",
    "\n",
    "print(f'mínimo: {min_n}')\n",
    "print(f'máximo: {max_n}')\n"
   ]
  },
  {
   "cell_type": "code",
   "execution_count": 31,
   "metadata": {},
   "outputs": [
    {
     "name": "stdout",
     "output_type": "stream",
     "text": [
      "mínimo: 1\n",
      "máximo: 10\n"
     ]
    }
   ],
   "source": [
    "### SOLUCIÓN 2 (sin bucle)\n",
    "\n",
    "numbers = [5, 2, 7, 1, 8, 4, 10, 3]\n",
    "\n",
    "print(f'mínimo: {sorted(numbers)[0]}')\n",
    "print(f'máximo: {sorted(numbers)[-1]}')"
   ]
  },
  {
   "cell_type": "markdown",
   "metadata": {},
   "source": [
    "17. Dada una lista de nombres, utiliza un bucle while para imprimir los nombres en mayúsculas hasta que se encuentre un nombre que comience con \"M\".\n"
   ]
  },
  {
   "cell_type": "code",
   "execution_count": 33,
   "metadata": {},
   "outputs": [
    {
     "name": "stdout",
     "output_type": "stream",
     "text": [
      "ANA\n",
      "PEDRO\n",
      "JUAN\n"
     ]
    }
   ],
   "source": [
    "names = [\"Ana\", \"Pedro\", \"Juan\", \"Maria\", \"Julia\"]\n",
    "\n",
    "for n in names:\n",
    "    if n[0] == 'M':\n",
    "        break\n",
    "\n",
    "    print(n.upper())"
   ]
  },
  {
   "cell_type": "markdown",
   "metadata": {},
   "source": [
    "18. Dado un diccionario de frutas y sus precios, utiliza un bucle for para imprimir solo las frutas que tengan un precio mayor a 2.0.\n"
   ]
  },
  {
   "cell_type": "code",
   "execution_count": 35,
   "metadata": {},
   "outputs": [
    {
     "name": "stdout",
     "output_type": "stream",
     "text": [
      "platano\n",
      "kiwi\n"
     ]
    }
   ],
   "source": [
    "fruits = {\"manzana\": 1.5, \"naranja\": 2.0, \"platano\": 3.0, \"kiwi\": 2.5}\n",
    "\n",
    "for k, v in fruits.items():\n",
    "    if v > 2:\n",
    "        print(k)"
   ]
  },
  {
   "attachments": {},
   "cell_type": "markdown",
   "metadata": {},
   "source": [
    "19. Dada una lista de números, utiliza un bucle while para imprimir solo los números impares y detener el bucle si se encuentra un número mayor a 10."
   ]
  },
  {
   "cell_type": "code",
   "execution_count": 36,
   "metadata": {},
   "outputs": [
    {
     "name": "stdout",
     "output_type": "stream",
     "text": [
      "1\n",
      "3\n",
      "5\n",
      "7\n",
      "9\n"
     ]
    }
   ],
   "source": [
    "numbers = [1, 2, 3, 4, 5, 6, 7, 8, 9, 11, 12]\n",
    "\n",
    "for n in numbers:\n",
    "    if n > 10:\n",
    "        break\n",
    "\n",
    "    if n%2 == 1:\n",
    "        print(n)"
   ]
  },
  {
   "attachments": {},
   "cell_type": "markdown",
   "metadata": {},
   "source": [
    "20. Dada una lista de tuplas, donde cada tupla representa la información de un estudiante (nombre, edad, promedio), crear un diccionario que agrupe a los estudiantes por rango de edades (0-20, 21-40, 41-60, más de 60) y calcule el promedio de sus promedios."
   ]
  },
  {
   "cell_type": "code",
   "execution_count": 42,
   "metadata": {},
   "outputs": [
    {
     "name": "stdout",
     "output_type": "stream",
     "text": [
      "{\n",
      "    \"0-20\": [\n",
      "        \"Ana\",\n",
      "        \"Luis\"\n",
      "    ],\n",
      "    \"21-40\": [\n",
      "        \"Pedro\",\n",
      "        \"Juan\"\n",
      "    ],\n",
      "    \"41-60\": [\n",
      "        \"Maria\"\n",
      "    ],\n",
      "    \"mas de 60\": [\n",
      "        \"Julia\"\n",
      "    ]\n",
      "}\n",
      "promedio: 8.316666666666666\n"
     ]
    }
   ],
   "source": [
    "import json\n",
    "\n",
    "students = [(\"Ana\", 18, 8.5), (\"Pedro\", 25, 7.8), (\"Juan\", 37, 9.2), (\"Maria\", 58, 6.5), (\"Julia\", 70, 8.9), (\"Luis\", 20, 9.0)]\n",
    "\n",
    "age_ranges = {\"0-20\": [], \"21-40\": [], \"41-60\": [], \"mas de 60\": []}\n",
    "\n",
    "total = 0\n",
    "cont = 0\n",
    "for s in students:\n",
    "    total += s[2]\n",
    "    cont += 1\n",
    "    if s[1] <= 20:\n",
    "        age_ranges['0-20'].append(s[0])\n",
    "    elif s[1] <= 40:\n",
    "        age_ranges['21-40'].append(s[0])\n",
    "    elif s[1] <= 60:\n",
    "        age_ranges['41-60'].append(s[0])\n",
    "    else:\n",
    "        age_ranges['mas de 60'].append(s[0])\n",
    "\n",
    "print(json.dumps(age_ranges, indent=4))\n",
    "print(f'promedio: {total/cont}')\n"
   ]
  },
  {
   "cell_type": "code",
   "execution_count": 1,
   "metadata": {},
   "outputs": [],
   "source": [
    "import pandas as pd\n",
    "import numpy as np"
   ]
  },
  {
   "cell_type": "code",
   "execution_count": 2,
   "metadata": {},
   "outputs": [
    {
     "data": {
      "text/plain": [
       "'2.0.0'"
      ]
     },
     "execution_count": 2,
     "metadata": {},
     "output_type": "execute_result"
    }
   ],
   "source": [
    "pd.__version__\n"
   ]
  },
  {
   "cell_type": "code",
   "execution_count": 3,
   "metadata": {},
   "outputs": [
    {
     "data": {
      "text/plain": [
       "'1.24.2'"
      ]
     },
     "execution_count": 3,
     "metadata": {},
     "output_type": "execute_result"
    }
   ],
   "source": [
    "np.__version__"
   ]
  },
  {
   "cell_type": "code",
   "execution_count": 10,
   "metadata": {},
   "outputs": [
    {
     "name": "stdout",
     "output_type": "stream",
     "text": [
      "edad media: 37\n"
     ]
    }
   ],
   "source": [
    "import datetime as dt\n",
    "\n",
    "\n",
    "def get_average_age(years):\n",
    "    curr_year = dt.datetime.now().year\n",
    "\n",
    "    total = 0\n",
    "\n",
    "    for y in years:\n",
    "        total += curr_year - y\n",
    "\n",
    "    return int(total/len(years))\n",
    "\n",
    "\n",
    "years = [1964, 1971, 1981, 1990, 2001, 2004]\n",
    "average_age = get_average_age(years)\n",
    "print(f'edad media: {average_age}')\n"
   ]
  },
  {
   "cell_type": "code",
   "execution_count": null,
   "metadata": {},
   "outputs": [],
   "source": []
  }
 ],
 "metadata": {
  "kernelspec": {
   "display_name": "rampup_py39",
   "language": "python",
   "name": "python3"
  },
  "language_info": {
   "codemirror_mode": {
    "name": "ipython",
    "version": 3
   },
   "file_extension": ".py",
   "mimetype": "text/x-python",
   "name": "python",
   "nbconvert_exporter": "python",
   "pygments_lexer": "ipython3",
   "version": "3.9.16"
  },
  "orig_nbformat": 4
 },
 "nbformat": 4,
 "nbformat_minor": 2
}
